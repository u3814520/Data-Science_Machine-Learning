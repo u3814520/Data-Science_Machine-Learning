{
 "cells": [
  {
   "cell_type": "markdown",
   "metadata": {},
   "source": [
    "# 平均值、中位數、眾數和引入 NumPy"
   ]
  },
  {
   "cell_type": "markdown",
   "metadata": {},
   "source": [
    "## 平均值與中位數"
   ]
  },
  {
   "cell_type": "markdown",
   "metadata": {},
   "source": [
    "創建虛假的收入數據，以 27，000 為中心，正常分佈和標準偏差為 15，000，數據點為 10，000 個。\n",
    "\n",
    "然後，計算平均值（平均值）："
   ]
  },
  {
   "cell_type": "code",
   "execution_count": 11,
   "metadata": {},
   "outputs": [
    {
     "data": {
      "text/plain": [
       "27152.05833764857"
      ]
     },
     "execution_count": 11,
     "metadata": {},
     "output_type": "execute_result"
    }
   ],
   "source": [
    "import numpy as np\n",
    "\n",
    "incomes = np.random.normal(27000, 15000, 10000)  #建立一個資料集在27000附近，標準差為15000，需要有10000個資料\n",
    "np.mean(incomes)  #算出平均數"
   ]
  },
  {
   "cell_type": "markdown",
   "metadata": {},
   "source": [
    "我們可以將收入數據細分為 50 個存儲桶，並將其繪製為直方圖："
   ]
  },
  {
   "cell_type": "code",
   "execution_count": 13,
   "metadata": {},
   "outputs": [
    {
     "data": {
      "image/png": "[encoded data removed]",
      "text/plain": [
       "<Figure size 432x288 with 1 Axes>"
      ]
     },
     "metadata": {
      "needs_background": "light"
     },
     "output_type": "display_data"
    }
   ],
   "source": [
    "%matplotlib inline\n",
    "import matplotlib.pyplot as plt\n",
    "plt.hist(incomes, 50)\n",
    "plt.show()"
   ]
  },
  {
   "cell_type": "markdown",
   "metadata": {},
   "source": [
    "現在計算中位數 -也應該接近 27，000："
   ]
  },
  {
   "cell_type": "code",
   "execution_count": 15,
   "metadata": {},
   "outputs": [
    {
     "data": {
      "text/plain": [
       "27140.00753709122"
      ]
     },
     "execution_count": 15,
     "metadata": {},
     "output_type": "execute_result"
    }
   ],
   "source": [
    "np.median(incomes)  #中位數    標準的常態分佈，中位數與平均數並不會差太遠"
   ]
  },
  {
   "cell_type": "markdown",
   "metadata": {},
   "source": [
    "加入一筆不平等收入！"
   ]
  },
  {
   "cell_type": "code",
   "execution_count": 16,
   "metadata": {},
   "outputs": [],
   "source": [
    "incomes = np.append(incomes, [1000000000])"
   ]
  },
  {
   "cell_type": "markdown",
   "metadata": {},
   "source": [
    "中位數變化不大，但平均值確實如此："
   ]
  },
  {
   "cell_type": "code",
   "execution_count": 17,
   "metadata": {},
   "outputs": [
    {
     "data": {
      "text/plain": [
       "27141.11400962731"
      ]
     },
     "execution_count": 17,
     "metadata": {},
     "output_type": "execute_result"
    }
   ],
   "source": [
    "np.median(incomes)"
   ]
  },
  {
   "cell_type": "code",
   "execution_count": 18,
   "metadata": {},
   "outputs": [
    {
     "data": {
      "text/plain": [
       "127139.34440320826"
      ]
     },
     "execution_count": 18,
     "metadata": {},
     "output_type": "execute_result"
    }
   ],
   "source": [
    "np.mean(incomes)"
   ]
  },
  {
   "cell_type": "markdown",
   "metadata": {},
   "source": [
    "## 眾數"
   ]
  },
  {
   "cell_type": "markdown",
   "metadata": {},
   "source": [
    "生成500人的虛假年齡數據："
   ]
  },
  {
   "cell_type": "code",
   "execution_count": 20,
   "metadata": {},
   "outputs": [
    {
     "data": {
      "text/plain": [
       "array([65, 18, 29, 53, 58, 67, 18, 34, 56, 37, 47, 87, 22, 63, 40, 62, 87,\n",
       "       82, 39, 33, 50, 67, 39, 22, 45, 61, 56, 37, 45, 77, 38, 51, 54, 78,\n",
       "       42, 51, 30, 26, 88, 66, 87, 19, 85, 62, 74, 61, 72, 26, 67, 28, 19,\n",
       "       42, 49, 69, 85, 19, 18, 27, 24, 85, 89, 72, 40, 45, 46, 75, 71, 29,\n",
       "       42, 25, 66, 34, 46, 22, 70, 75, 34, 40, 58, 21, 27, 40, 54, 77, 39,\n",
       "       81, 42, 48, 56, 44, 50, 45, 39, 55, 64, 18, 68, 54, 66, 32, 45, 52,\n",
       "       45, 78, 59, 70, 68, 18, 39, 54, 81, 74, 29, 21, 74, 24, 81, 44, 63,\n",
       "       54, 19, 82, 40, 64, 70, 70, 23, 65, 27, 69, 40, 19, 84, 21, 22, 82,\n",
       "       38, 43, 59, 30, 20, 20, 88, 63, 82, 57, 42, 43, 54, 41, 38, 37, 76,\n",
       "       71, 60, 37, 82, 84, 25, 42, 43, 64, 67, 38, 53, 68, 54, 48, 77, 73,\n",
       "       58, 43, 24, 80, 35, 83, 71, 86, 53, 69, 79, 89, 52, 23, 30, 65, 81,\n",
       "       89, 53, 54, 32, 82, 31, 34, 22, 48, 86, 63, 36, 33, 23, 79, 27, 53,\n",
       "       74, 33, 86, 72, 60, 87, 24, 18, 69, 81, 63, 53, 77, 68, 79, 78, 68,\n",
       "       75, 61, 33, 30, 54, 37, 77, 37, 36, 59, 48, 61, 28, 65, 70, 70, 57,\n",
       "       77, 66, 36, 53, 73, 85, 71, 51, 65, 49, 70, 55, 42, 29, 82, 27, 53,\n",
       "       27, 26, 75, 37, 78, 48, 26, 28, 42, 69, 58, 33, 88, 77, 31, 59, 49,\n",
       "       32, 37, 20, 72, 87, 38, 53, 19, 69, 55, 83, 36, 69, 61, 45, 32, 38,\n",
       "       80, 86, 74, 47, 86, 76, 48, 79, 32, 73, 85, 36, 78, 73, 79, 78, 75,\n",
       "       39, 79, 61, 27, 24, 46, 50, 52, 47, 58, 62, 53, 67, 87, 56, 40, 73,\n",
       "       74, 27, 82, 19, 46, 26, 36, 18, 61, 42, 72, 47, 54, 23, 52, 23, 61,\n",
       "       70, 45, 24, 76, 48, 86, 63, 19, 25, 54, 77, 71, 67, 52, 40, 72, 89,\n",
       "       42, 54, 43, 21, 74, 26, 61, 53, 63, 48, 40, 67, 66, 44, 70, 33, 80,\n",
       "       58, 34, 44, 60, 40, 21, 45, 67, 29, 22, 36, 62, 34, 38, 19, 72, 49,\n",
       "       31, 27, 89, 29, 43, 72, 45, 66, 37, 40, 71, 56, 29, 28, 40, 61, 77,\n",
       "       44, 65, 70, 22, 85, 36, 86, 75, 52, 49, 85, 42, 89, 37, 18, 61, 55,\n",
       "       55, 86, 29, 86, 21, 62, 24, 39, 23, 86, 59, 40, 27, 68, 26, 85, 62,\n",
       "       26, 39, 75, 88, 29, 86, 71, 30, 66, 42, 65, 39, 81, 36, 33, 31, 37,\n",
       "       82, 44, 57, 27, 33, 45, 72, 75, 27, 71, 47, 75, 31, 79, 62, 27, 80,\n",
       "       18, 58, 74, 42, 35, 61, 35, 85, 60, 86, 22, 20, 65, 51, 32, 81, 48,\n",
       "       25, 18, 35, 42, 35, 77, 35])"
      ]
     },
     "execution_count": 20,
     "metadata": {},
     "output_type": "execute_result"
    }
   ],
   "source": [
    "ages = np.random.randint(18, high=90, size=500)\n",
    "ages"
   ]
  },
  {
   "cell_type": "code",
   "execution_count": 22,
   "metadata": {},
   "outputs": [
    {
     "data": {
      "text/plain": [
       "ModeResult(mode=array([42]), count=array([14]))"
      ]
     },
     "execution_count": 22,
     "metadata": {},
     "output_type": "execute_result"
    }
   ],
   "source": [
    "from scipy import stats\n",
    "stats.mode(ages)   # mode=眾數 , count=出現次數"
   ]
  }
 ],
 "metadata": {
  "kernelspec": {
   "display_name": "Python 3",
   "language": "python",
   "name": "python3"
  },
  "language_info": {
   "codemirror_mode": {
    "name": "ipython",
    "version": 3
   },
   "file_extension": ".py",
   "mimetype": "text/x-python",
   "name": "python",
   "nbconvert_exporter": "python",
   "pygments_lexer": "ipython3",
   "version": "3.8.10"
  }
 },
 "nbformat": 4,
 "nbformat_minor": 1
}
